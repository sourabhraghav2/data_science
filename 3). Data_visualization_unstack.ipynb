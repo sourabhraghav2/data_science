{
 "cells": [
  {
   "cell_type": "code",
   "execution_count": 4,
   "metadata": {
    "scrolled": true
   },
   "outputs": [
    {
     "name": "stdout",
     "output_type": "stream",
     "text": [
      "INPUT\n",
      "[[[0. 1.]\n",
      "  [2. 3.]]\n",
      "\n",
      " [[4. 5.]\n",
      "  [6. 7.]]]\n",
      "UNSTACK AXIS 1\n",
      "[array([[0., 1.],\n",
      "       [2., 3.]], dtype=float32), array([[4., 5.],\n",
      "       [6., 7.]], dtype=float32)]\n",
      "np:  [[[0. 1.]\n",
      "  [2. 3.]]\n",
      "\n",
      " [[4. 5.]\n",
      "  [6. 7.]]]\n",
      "------------\n",
      "[[0. 1.]\n",
      " [2. 3.]]\n",
      "[[4. 5.]\n",
      " [6. 7.]]\n",
      "------------\n",
      "STACK AXIS 1\n",
      "[[[0. 1.]\n",
      "  [2. 3.]]\n",
      "\n",
      " [[4. 5.]\n",
      "  [6. 7.]]]\n",
      "UNSTACK AXIS 2\n",
      "[array([[0., 2.],\n",
      "       [4., 6.]], dtype=float32), array([[1., 3.],\n",
      "       [5., 7.]], dtype=float32)]\n"
     ]
    }
   ],
   "source": [
    "import tensorflow as tf\n",
    "import numpy as np\n",
    "\n",
    "x = [0., 1., 2., 3., 4., 5., 6., 7.]\n",
    "y = tf.reshape(x, [2, 2, 2])\n",
    "\n",
    "\n",
    "\n",
    "# Use unstack on the 3D matrix with different axis values.\n",
    "unstack_axis1 = tf.unstack(y, axis=0)\n",
    "\n",
    "# Use stack to combine tensors.\n",
    "stack_axis1 = tf.stack(unstack_axis1, axis=0)\n",
    "\n",
    "# Use unstack on axis value 2.\n",
    "unstack_axis2 = tf.unstack(y, axis=2)\n",
    "\n",
    "session = tf.Session()\n",
    "\n",
    "print(\"INPUT\")\n",
    "print(session.run(y))\n",
    "print(\"UNSTACK AXIS 1\")\n",
    "print(session.run(unstack_axis1))\n",
    "print('np: ',np.array(session.run(unstack_axis1)))\n",
    "print('------------')\n",
    "for i in np.array(session.run(unstack_axis1)):\n",
    "    print(i)\n",
    "print('------------')\n",
    "print(\"STACK AXIS 1\")\n",
    "print(session.run(stack_axis1))\n",
    "print(\"UNSTACK AXIS 2\")\n",
    "print(session.run(unstack_axis2))"
   ]
  },
  {
   "cell_type": "code",
   "execution_count": null,
   "metadata": {},
   "outputs": [],
   "source": []
  }
 ],
 "metadata": {
  "kernelspec": {
   "display_name": "Python 3",
   "language": "python",
   "name": "python3"
  },
  "language_info": {
   "codemirror_mode": {
    "name": "ipython",
    "version": 3
   },
   "file_extension": ".py",
   "mimetype": "text/x-python",
   "name": "python",
   "nbconvert_exporter": "python",
   "pygments_lexer": "ipython3",
   "version": "3.5.2"
  }
 },
 "nbformat": 4,
 "nbformat_minor": 2
}
