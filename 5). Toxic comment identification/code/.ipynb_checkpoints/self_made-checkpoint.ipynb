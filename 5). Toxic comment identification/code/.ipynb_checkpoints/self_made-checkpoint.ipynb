{
 "cells": [
  {
   "cell_type": "code",
   "execution_count": 2,
   "metadata": {},
   "outputs": [
    {
     "name": "stdout",
     "output_type": "stream",
     "text": [
      "imported\n"
     ]
    }
   ],
   "source": [
    "#Lets import all the librarikes required to build a model\n",
    "import numpy as np\n",
    "import pandas as pd\n",
    "import tensorflow as tf\n",
    "import re\n",
    "import nltk\n",
    "from sklearn.feature_extraction.text import TfidfVectorizer\n",
    "\n",
    "import matplotlib.pyplot as plt\n",
    "import pandas as pd\n",
    "import numpy as np\n",
    "import seaborn as sns\n",
    "from sklearn.model_selection import train_test_split\n",
    "\n",
    "from bs4 import BeautifulSoup\n",
    "from nltk.corpus import stopwords\n",
    "from sklearn.feature_extraction.text import CountVectorizer\n",
    "import tensorflow as tf\n",
    "print('imported')"
   ]
  },
  {
   "cell_type": "code",
   "execution_count": 3,
   "metadata": {},
   "outputs": [],
   "source": [
    "#import the training dataset\n",
    "train_comment_raw=pd.read_csv('../data/train/train.csv')\n",
    "train_comment_raw['comment_text']=train_comment_raw['comment_text'].fillna('Missing')"
   ]
  },
  {
   "cell_type": "code",
   "execution_count": 4,
   "metadata": {},
   "outputs": [],
   "source": [
    "def feature_engg(input):\n",
    "    train_comment_raw=input\n",
    "    train_comment_raw['capital_word_count']=train_comment_raw.apply(lambda row:sum(1 for each in row['comment_text'].split() if each.isupper()),axis=1)\n",
    "    train_comment_raw['capital_char_count']=train_comment_raw.apply(lambda row:sum(1 for each in row['comment_text'] if each.isupper()),axis=1)\n",
    "    train_comment_raw['comment_length']=train_comment_raw['comment_text'].apply(len)\n",
    "    train_comment_raw['capital_word_vs_len']=train_comment_raw.apply(lambda row:row['capital_word_count']/row['comment_length'],axis=1)\n",
    "    train_comment_raw['capital_char_vs_len']=train_comment_raw.apply(lambda row:row['capital_char_count']/row['comment_length'],axis=1)\n",
    "    return train_comment_raw"
   ]
  },
  {
   "cell_type": "code",
   "execution_count": 5,
   "metadata": {},
   "outputs": [
    {
     "data": {
      "text/html": [
       "<div>\n",
       "<style scoped>\n",
       "    .dataframe tbody tr th:only-of-type {\n",
       "        vertical-align: middle;\n",
       "    }\n",
       "\n",
       "    .dataframe tbody tr th {\n",
       "        vertical-align: top;\n",
       "    }\n",
       "\n",
       "    .dataframe thead th {\n",
       "        text-align: right;\n",
       "    }\n",
       "</style>\n",
       "<table border=\"1\" class=\"dataframe\">\n",
       "  <thead>\n",
       "    <tr style=\"text-align: right;\">\n",
       "      <th></th>\n",
       "      <th>id</th>\n",
       "      <th>comment_text</th>\n",
       "      <th>toxic</th>\n",
       "      <th>severe_toxic</th>\n",
       "      <th>obscene</th>\n",
       "      <th>threat</th>\n",
       "      <th>insult</th>\n",
       "      <th>identity_hate</th>\n",
       "      <th>capital_word_count</th>\n",
       "      <th>capital_char_count</th>\n",
       "      <th>comment_length</th>\n",
       "      <th>capital_word_vs_len</th>\n",
       "      <th>capital_char_vs_len</th>\n",
       "    </tr>\n",
       "  </thead>\n",
       "  <tbody>\n",
       "    <tr>\n",
       "      <th>0</th>\n",
       "      <td>22256635</td>\n",
       "      <td>Nonsense?  kiss off, geek. what I said is true...</td>\n",
       "      <td>1</td>\n",
       "      <td>0</td>\n",
       "      <td>0</td>\n",
       "      <td>0</td>\n",
       "      <td>0</td>\n",
       "      <td>0</td>\n",
       "      <td>1</td>\n",
       "      <td>3</td>\n",
       "      <td>83</td>\n",
       "      <td>0.012048</td>\n",
       "      <td>0.036145</td>\n",
       "    </tr>\n",
       "    <tr>\n",
       "      <th>1</th>\n",
       "      <td>27450690</td>\n",
       "      <td>\"\\n\\n Please do not vandalize pages, as you di...</td>\n",
       "      <td>0</td>\n",
       "      <td>0</td>\n",
       "      <td>0</td>\n",
       "      <td>0</td>\n",
       "      <td>0</td>\n",
       "      <td>0</td>\n",
       "      <td>2</td>\n",
       "      <td>5</td>\n",
       "      <td>142</td>\n",
       "      <td>0.014085</td>\n",
       "      <td>0.035211</td>\n",
       "    </tr>\n",
       "    <tr>\n",
       "      <th>2</th>\n",
       "      <td>54037174</td>\n",
       "      <td>\"\\n\\n \"\"Points of interest\"\" \\n\\nI removed the...</td>\n",
       "      <td>0</td>\n",
       "      <td>0</td>\n",
       "      <td>0</td>\n",
       "      <td>0</td>\n",
       "      <td>0</td>\n",
       "      <td>0</td>\n",
       "      <td>2</td>\n",
       "      <td>6</td>\n",
       "      <td>411</td>\n",
       "      <td>0.004866</td>\n",
       "      <td>0.014599</td>\n",
       "    </tr>\n",
       "    <tr>\n",
       "      <th>3</th>\n",
       "      <td>77493077</td>\n",
       "      <td>Asking some his nationality is a Racial offenc...</td>\n",
       "      <td>0</td>\n",
       "      <td>0</td>\n",
       "      <td>0</td>\n",
       "      <td>0</td>\n",
       "      <td>0</td>\n",
       "      <td>0</td>\n",
       "      <td>0</td>\n",
       "      <td>5</td>\n",
       "      <td>148</td>\n",
       "      <td>0.000000</td>\n",
       "      <td>0.033784</td>\n",
       "    </tr>\n",
       "    <tr>\n",
       "      <th>4</th>\n",
       "      <td>79357270</td>\n",
       "      <td>The reader here is not going by my say so for ...</td>\n",
       "      <td>0</td>\n",
       "      <td>0</td>\n",
       "      <td>0</td>\n",
       "      <td>0</td>\n",
       "      <td>0</td>\n",
       "      <td>0</td>\n",
       "      <td>1</td>\n",
       "      <td>6</td>\n",
       "      <td>266</td>\n",
       "      <td>0.003759</td>\n",
       "      <td>0.022556</td>\n",
       "    </tr>\n",
       "  </tbody>\n",
       "</table>\n",
       "</div>"
      ],
      "text/plain": [
       "         id                                       comment_text  toxic  \\\n",
       "0  22256635  Nonsense?  kiss off, geek. what I said is true...      1   \n",
       "1  27450690  \"\\n\\n Please do not vandalize pages, as you di...      0   \n",
       "2  54037174  \"\\n\\n \"\"Points of interest\"\" \\n\\nI removed the...      0   \n",
       "3  77493077  Asking some his nationality is a Racial offenc...      0   \n",
       "4  79357270  The reader here is not going by my say so for ...      0   \n",
       "\n",
       "   severe_toxic  obscene  threat  insult  identity_hate  capital_word_count  \\\n",
       "0             0        0       0       0              0                   1   \n",
       "1             0        0       0       0              0                   2   \n",
       "2             0        0       0       0              0                   2   \n",
       "3             0        0       0       0              0                   0   \n",
       "4             0        0       0       0              0                   1   \n",
       "\n",
       "   capital_char_count  comment_length  capital_word_vs_len  \\\n",
       "0                   3              83             0.012048   \n",
       "1                   5             142             0.014085   \n",
       "2                   6             411             0.004866   \n",
       "3                   5             148             0.000000   \n",
       "4                   6             266             0.003759   \n",
       "\n",
       "   capital_char_vs_len  \n",
       "0             0.036145  \n",
       "1             0.035211  \n",
       "2             0.014599  \n",
       "3             0.033784  \n",
       "4             0.022556  "
      ]
     },
     "execution_count": 5,
     "metadata": {},
     "output_type": "execute_result"
    }
   ],
   "source": [
    "train_comment_raw=feature_engg(train_comment_raw)\n",
    "train_comment_raw.head()"
   ]
  },
  {
   "cell_type": "code",
   "execution_count": 6,
   "metadata": {},
   "outputs": [
    {
     "data": {
      "image/png": "[encoded data removed]",
      "text/plain": [
       "<matplotlib.figure.Figure at 0x17228470>"
      ]
     },
     "metadata": {},
     "output_type": "display_data"
    },
    {
     "data": {
      "text/html": [
       "<div>\n",
       "<style scoped>\n",
       "    .dataframe tbody tr th:only-of-type {\n",
       "        vertical-align: middle;\n",
       "    }\n",
       "\n",
       "    .dataframe tbody tr th {\n",
       "        vertical-align: top;\n",
       "    }\n",
       "\n",
       "    .dataframe thead th {\n",
       "        text-align: right;\n",
       "    }\n",
       "</style>\n",
       "<table border=\"1\" class=\"dataframe\">\n",
       "  <thead>\n",
       "    <tr style=\"text-align: right;\">\n",
       "      <th></th>\n",
       "      <th>identity_hate</th>\n",
       "      <th>insult</th>\n",
       "      <th>obscene</th>\n",
       "      <th>severe_toxic</th>\n",
       "      <th>threat</th>\n",
       "      <th>toxic</th>\n",
       "    </tr>\n",
       "  </thead>\n",
       "  <tbody>\n",
       "    <tr>\n",
       "      <th>capital_word_count</th>\n",
       "      <td>0.056461</td>\n",
       "      <td>0.083512</td>\n",
       "      <td>0.092161</td>\n",
       "      <td>0.164040</td>\n",
       "      <td>0.049365</td>\n",
       "      <td>0.101465</td>\n",
       "    </tr>\n",
       "    <tr>\n",
       "      <th>capital_char_count</th>\n",
       "      <td>0.068554</td>\n",
       "      <td>0.084322</td>\n",
       "      <td>0.094346</td>\n",
       "      <td>0.159816</td>\n",
       "      <td>0.041073</td>\n",
       "      <td>0.099016</td>\n",
       "    </tr>\n",
       "    <tr>\n",
       "      <th>comment_length</th>\n",
       "      <td>-0.007864</td>\n",
       "      <td>-0.044177</td>\n",
       "      <td>-0.037755</td>\n",
       "      <td>0.015504</td>\n",
       "      <td>-0.004742</td>\n",
       "      <td>-0.050285</td>\n",
       "    </tr>\n",
       "    <tr>\n",
       "      <th>capital_char_vs_len</th>\n",
       "      <td>0.097474</td>\n",
       "      <td>0.175908</td>\n",
       "      <td>0.186046</td>\n",
       "      <td>0.171419</td>\n",
       "      <td>0.067060</td>\n",
       "      <td>0.222841</td>\n",
       "    </tr>\n",
       "    <tr>\n",
       "      <th>capital_word_vs_len</th>\n",
       "      <td>0.088265</td>\n",
       "      <td>0.174936</td>\n",
       "      <td>0.190141</td>\n",
       "      <td>0.172319</td>\n",
       "      <td>0.077660</td>\n",
       "      <td>0.227339</td>\n",
       "    </tr>\n",
       "  </tbody>\n",
       "</table>\n",
       "</div>"
      ],
      "text/plain": [
       "                     identity_hate    insult   obscene  severe_toxic  \\\n",
       "capital_word_count        0.056461  0.083512  0.092161      0.164040   \n",
       "capital_char_count        0.068554  0.084322  0.094346      0.159816   \n",
       "comment_length           -0.007864 -0.044177 -0.037755      0.015504   \n",
       "capital_char_vs_len       0.097474  0.175908  0.186046      0.171419   \n",
       "capital_word_vs_len       0.088265  0.174936  0.190141      0.172319   \n",
       "\n",
       "                       threat     toxic  \n",
       "capital_word_count   0.049365  0.101465  \n",
       "capital_char_count   0.041073  0.099016  \n",
       "comment_length      -0.004742 -0.050285  \n",
       "capital_char_vs_len  0.067060  0.222841  \n",
       "capital_word_vs_len  0.077660  0.227339  "
      ]
     },
     "execution_count": 6,
     "metadata": {},
     "output_type": "execute_result"
    }
   ],
   "source": [
    "def correlation(label_column,feature_column):\n",
    "    correlation=[{label_col:train_comment_raw[feature_col].corr(train_comment_raw[label_col])  for label_col in label_column }for feature_col  in  feature_column]\n",
    "    result=pd.DataFrame(correlation,index=feature_column)\n",
    "    ax = sns.heatmap(result, vmin=-0.2, vmax=0.2, center=0.0)\n",
    "    plt.show()\n",
    "    return result\n",
    "\n",
    "\n",
    "label_column=['toxic','severe_toxic','obscene','threat','insult','identity_hate']\n",
    "feature_column=['capital_word_count','capital_char_count','comment_length','capital_char_vs_len','capital_word_vs_len']\n",
    "result=correlation(label_column,feature_column)\n",
    "result.head()"
   ]
  },
  {
   "cell_type": "code",
   "execution_count": 7,
   "metadata": {},
   "outputs": [
    {
     "data": {
      "image/png": "[encoded data removed]",
      "text/plain": [
       "<matplotlib.figure.Figure at 0x1735f6a0>"
      ]
     },
     "metadata": {},
     "output_type": "display_data"
    }
   ],
   "source": [
    "train_comment_raw[['toxic','severe_toxic','obscene','threat','insult','identity_hate','capital_word_count','capital_char_count','comment_length','capital_word_vs_len']].hist()\n",
    "plt.show()"
   ]
  },
  {
   "cell_type": "code",
   "execution_count": 8,
   "metadata": {},
   "outputs": [],
   "source": [
    "train_comment_raw=train_comment_raw.head(100)"
   ]
  },
  {
   "cell_type": "code",
   "execution_count": 9,
   "metadata": {},
   "outputs": [
    {
     "name": "stderr",
     "output_type": "stream",
     "text": [
      "h:\\python35\\lib\\site-packages\\bs4\\__init__.py:181: UserWarning: No parser was explicitly specified, so I'm using the best available HTML parser for this system (\"html5lib\"). This usually isn't a problem, but if you run this code on another system, or in a different virtual environment, it may use a different parser and behave differently.\n",
      "\n",
      "The code that caused this warning is on line 184 of the file h:\\python35\\lib\\runpy.py. To get rid of this warning, change code that looks like this:\n",
      "\n",
      " BeautifulSoup(YOUR_MARKUP})\n",
      "\n",
      "to this:\n",
      "\n",
      " BeautifulSoup(YOUR_MARKUP, \"html5lib\")\n",
      "\n",
      "  markup_type=markup_type))\n"
     ]
    },
    {
     "data": {
      "text/html": [
       "<div>\n",
       "<style scoped>\n",
       "    .dataframe tbody tr th:only-of-type {\n",
       "        vertical-align: middle;\n",
       "    }\n",
       "\n",
       "    .dataframe tbody tr th {\n",
       "        vertical-align: top;\n",
       "    }\n",
       "\n",
       "    .dataframe thead th {\n",
       "        text-align: right;\n",
       "    }\n",
       "</style>\n",
       "<table border=\"1\" class=\"dataframe\">\n",
       "  <thead>\n",
       "    <tr style=\"text-align: right;\">\n",
       "      <th></th>\n",
       "      <th>id</th>\n",
       "      <th>comment_text</th>\n",
       "      <th>toxic</th>\n",
       "      <th>severe_toxic</th>\n",
       "      <th>obscene</th>\n",
       "      <th>threat</th>\n",
       "      <th>insult</th>\n",
       "      <th>identity_hate</th>\n",
       "      <th>capital_word_count</th>\n",
       "      <th>capital_char_count</th>\n",
       "      <th>comment_length</th>\n",
       "      <th>capital_word_vs_len</th>\n",
       "      <th>capital_char_vs_len</th>\n",
       "    </tr>\n",
       "  </thead>\n",
       "  <tbody>\n",
       "    <tr>\n",
       "      <th>0</th>\n",
       "      <td>22256635</td>\n",
       "      <td>nonsense kiss geek said true account terminated</td>\n",
       "      <td>1</td>\n",
       "      <td>0</td>\n",
       "      <td>0</td>\n",
       "      <td>0</td>\n",
       "      <td>0</td>\n",
       "      <td>0</td>\n",
       "      <td>1</td>\n",
       "      <td>3</td>\n",
       "      <td>83</td>\n",
       "      <td>0.012048</td>\n",
       "      <td>0.036145</td>\n",
       "    </tr>\n",
       "    <tr>\n",
       "      <th>1</th>\n",
       "      <td>27450690</td>\n",
       "      <td>please vandalize pages edit w merwin continue ...</td>\n",
       "      <td>0</td>\n",
       "      <td>0</td>\n",
       "      <td>0</td>\n",
       "      <td>0</td>\n",
       "      <td>0</td>\n",
       "      <td>0</td>\n",
       "      <td>2</td>\n",
       "      <td>5</td>\n",
       "      <td>142</td>\n",
       "      <td>0.014085</td>\n",
       "      <td>0.035211</td>\n",
       "    </tr>\n",
       "    <tr>\n",
       "      <th>2</th>\n",
       "      <td>54037174</td>\n",
       "      <td>points interest removed points interest sectio...</td>\n",
       "      <td>0</td>\n",
       "      <td>0</td>\n",
       "      <td>0</td>\n",
       "      <td>0</td>\n",
       "      <td>0</td>\n",
       "      <td>0</td>\n",
       "      <td>2</td>\n",
       "      <td>6</td>\n",
       "      <td>411</td>\n",
       "      <td>0.004866</td>\n",
       "      <td>0.014599</td>\n",
       "    </tr>\n",
       "  </tbody>\n",
       "</table>\n",
       "</div>"
      ],
      "text/plain": [
       "         id                                       comment_text  toxic  \\\n",
       "0  22256635    nonsense kiss geek said true account terminated      1   \n",
       "1  27450690  please vandalize pages edit w merwin continue ...      0   \n",
       "2  54037174  points interest removed points interest sectio...      0   \n",
       "\n",
       "   severe_toxic  obscene  threat  insult  identity_hate  capital_word_count  \\\n",
       "0             0        0       0       0              0                   1   \n",
       "1             0        0       0       0              0                   2   \n",
       "2             0        0       0       0              0                   2   \n",
       "\n",
       "   capital_char_count  comment_length  capital_word_vs_len  \\\n",
       "0                   3              83             0.012048   \n",
       "1                   5             142             0.014085   \n",
       "2                   6             411             0.004866   \n",
       "\n",
       "   capital_char_vs_len  \n",
       "0             0.036145  \n",
       "1             0.035211  \n",
       "2             0.014599  "
      ]
     },
     "execution_count": 9,
     "metadata": {},
     "output_type": "execute_result"
    }
   ],
   "source": [
    "def clean_comment(row):\n",
    "    input=row['comment_text']\n",
    "    cleaned_html=BeautifulSoup(input).get_text()\n",
    "    cleaned_special_chr=re.sub('[^a-zA-Z]',' ',cleaned_html)\n",
    "    cleaned_special_chr = re.sub(r'[?|$|.|!]',r'',cleaned_special_chr)\n",
    "    lower=cleaned_special_chr.lower().split()\n",
    "    clean_stop_word=[each_char for each_char  in lower if each_char not in set(stopwords.words(\"english\"))]\n",
    "    return ' '.join(clean_stop_word)\n",
    "\n",
    "\n",
    "train_comment_raw['comment_text']=train_comment_raw.apply(clean_comment,axis=1)\n",
    "train_comment_raw.head(3)"
   ]
  },
  {
   "cell_type": "code",
   "execution_count": 27,
   "metadata": {},
   "outputs": [],
   "source": [
    "def convert_vectorizer(input):    \n",
    "    tfidf_vectorizer = TfidfVectorizer(max_features=1000,stop_words='english')\n",
    "    tfidf = tfidf_vectorizer.fit_transform(input)\n",
    "    return tfidf,tfidf_vectorizer\n",
    "\n",
    "# print(train_comment_raw.head(2)['comment_text'])\n",
    "tfidf,tf_feature_names=convert_vectorizer(list(train_comment_raw['comment_text']))\n",
    "    "
   ]
  },
  {
   "cell_type": "code",
   "execution_count": 40,
   "metadata": {},
   "outputs": [
    {
     "name": "stdout",
     "output_type": "stream",
     "text": [
      "(100, 1000)\n",
      "(100, 1006)\n"
     ]
    }
   ],
   "source": [
    "vectorized_list=np.array(tfidf.toarray())\n",
    "value_features=np.array(train_comment_raw[['toxic','severe_toxic','obscene','threat','insult','identity_hate']])\n",
    "all_new_feature=[]\n",
    "print(vectorized_list.shape)\n",
    "for new_f,old_f in zip(value_features,vectorized_list):\n",
    "    feature_tuple=np.append(new_f,old_f)\n",
    "    all_new_feature.append(feature_tuple)\n",
    "all_new_feature=np.array(all_new_feature)\n",
    "print((all_new_feature).shape)\n"
   ]
  },
  {
   "cell_type": "code",
   "execution_count": 29,
   "metadata": {},
   "outputs": [],
   "source": [
    "label=np.array(train_comment_raw[['toxic','severe_toxic','obscene','threat','insult','identity_hate']])\n"
   ]
  },
  {
   "cell_type": "code",
   "execution_count": 30,
   "metadata": {},
   "outputs": [],
   "source": [
    "\n",
    "def next_batch(num, data, labels):\n",
    "    '''\n",
    "    Return a total of `num` random samples and labels. \n",
    "    '''\n",
    "    idx = np.arange(0 , len(data))\n",
    "    np.random.shuffle(idx)\n",
    "    idx = idx[:num]\n",
    "    data_shuffle = [data[ i] for i in idx]\n",
    "    labels_shuffle = [labels[ i] for i in idx]\n",
    "\n",
    "    return np.asarray(data_shuffle), np.asarray(labels_shuffle)"
   ]
  },
  {
   "cell_type": "code",
   "execution_count": 31,
   "metadata": {},
   "outputs": [],
   "source": [
    "input_features=1006\n",
    "h_layer_1_size=3000\n",
    "h_layer_2_size=2000\n",
    "output_features=6\n",
    "learning_rate=0.3\n",
    "steps=10"
   ]
  },
  {
   "cell_type": "code",
   "execution_count": 48,
   "metadata": {},
   "outputs": [
    {
     "name": "stdout",
     "output_type": "stream",
     "text": [
      "(?, 1006)\n",
      "(?, 6)\n"
     ]
    }
   ],
   "source": [
    "source_input=tf.placeholder('float',[None,input_features])\n",
    "print(source_input.shape)\n",
    "target_input=tf.placeholder('float',[None,output_features])\n",
    "print(target_input.shape)"
   ]
  },
  {
   "cell_type": "code",
   "execution_count": 33,
   "metadata": {},
   "outputs": [],
   "source": [
    "weight={\n",
    "    'w1':tf.Variable(tf.random_normal([input_features,h_layer_1_size])),\n",
    "    'w2':tf.Variable(tf.random_normal([h_layer_1_size,h_layer_2_size])),\n",
    "    'out_w':tf.Variable(tf.random_normal([h_layer_2_size,output_features]))\n",
    "}\n",
    "bias={\n",
    "    'b1':tf.Variable(tf.random_normal([h_layer_1_size])),\n",
    "    'b2':tf.Variable(tf.random_normal([h_layer_2_size])),\n",
    "    'out_b':tf.Variable(tf.random_normal([output_features]))\n",
    "}"
   ]
  },
  {
   "cell_type": "code",
   "execution_count": 49,
   "metadata": {},
   "outputs": [],
   "source": [
    "def model(input):\n",
    "    h_layer1=tf.add(tf.matmul(input,weight['w1']),bias['b1'])\n",
    "    h_layer2=tf.add(tf.matmul(h_layer1,weight['w2']),bias['b2'])\n",
    "    h_layer3=tf.add(tf.matmul(h_layer2,weight['out_w']),bias['out_b'])\n",
    "    return h_layer3\n",
    "\n",
    "logits=model(source_input)  \n",
    "\n"
   ]
  },
  {
   "cell_type": "code",
   "execution_count": 50,
   "metadata": {},
   "outputs": [],
   "source": [
    "\n",
    "loss=tf.nn.softmax_cross_entropy_with_logits(logits=logits,labels=y)\n",
    "optimizer=tf.train.AdamOptimizer(learning_rate=learning_rate)\n",
    "train_op=optimizer.minimize(loss)\n",
    "\n",
    "init=tf.global_variables_initializer()"
   ]
  },
  {
   "cell_type": "code",
   "execution_count": 51,
   "metadata": {},
   "outputs": [
    {
     "name": "stdout",
     "output_type": "stream",
     "text": [
      "(10, 1000)\n",
      "(10, 6)\n"
     ]
    }
   ],
   "source": [
    "X,y=next_batch(10,vectorized_list,label)\n",
    "print(X.shape)\n",
    "\n",
    "print(y.shape)"
   ]
  },
  {
   "cell_type": "code",
   "execution_count": 53,
   "metadata": {},
   "outputs": [
    {
     "name": "stdout",
     "output_type": "stream",
     "text": [
      "start\n",
      "(67, 1006)   (67, 6)\n"
     ]
    }
   ],
   "source": [
    "\n",
    "print('start')\n",
    "train_X,test_X,train_y,test_y=train_test_split(all_new_feature,label,test_size=0.33, random_state=42)\n",
    "print(train_X.shape,' ',train_y.shape)\n",
    "with tf.Session() as sess:\n",
    "    sess.run(init)\n",
    "    for step in range(1,steps):\n",
    "        X,y=next_batch(10,train_X,train_y)\n",
    "        sess.run([train_op],feed_dict={source_input:X,target_input:y})\n",
    "    print('Finish!!')"
   ]
  },
  {
   "cell_type": "code",
   "execution_count": null,
   "metadata": {},
   "outputs": [],
   "source": []
  },
  {
   "cell_type": "code",
   "execution_count": null,
   "metadata": {},
   "outputs": [],
   "source": []
  }
 ],
 "metadata": {
  "kernelspec": {
   "display_name": "Python 3",
   "language": "python",
   "name": "python3"
  },
  "language_info": {
   "codemirror_mode": {
    "name": "ipython",
    "version": 3
   },
   "file_extension": ".py",
   "mimetype": "text/x-python",
   "name": "python",
   "nbconvert_exporter": "python",
   "pygments_lexer": "ipython3",
   "version": "3.5.2"
  }
 },
 "nbformat": 4,
 "nbformat_minor": 2
}
