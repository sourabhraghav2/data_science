{
 "cells": [
  {
   "cell_type": "code",
   "execution_count": 20,
   "metadata": {},
   "outputs": [],
   "source": [
    "import numpy as np\n",
    "import tensorflow as tf\n",
    "\n",
    "import plotly.plotly as py\n",
    "import plotly.graph_objs as go\n",
    "\n",
    "import plotly \n",
    "plotly.tools.set_credentials_file(username='sourabhraghav2', api_key='p9oH04xjQ1HTD8W0uyeN')\n",
    "\n",
    "\n"
   ]
  },
  {
   "cell_type": "code",
   "execution_count": 21,
   "metadata": {},
   "outputs": [],
   "source": [
    "\n",
    "input=np.reshape([i for i in range(27)],[3,3,3])"
   ]
  },
  {
   "cell_type": "code",
   "execution_count": 22,
   "metadata": {},
   "outputs": [],
   "source": [
    "\n",
    "class Visializer3D:\n",
    "    vecrot_list=None\n",
    "    def __init__(self,input_list):\n",
    "        print('initialize')\n",
    "        if len(list(np.array(input_list).shape))==3:\n",
    "            print('shape equal to 3')\n",
    "            object={}\n",
    "            for indexI,i in enumerate(input_list):\n",
    "                for indexJ,j in enumerate(i):\n",
    "                    for indexK,k in enumerate(j):\n",
    "#                         print(k)\n",
    "                        object[str(indexI)+''+str(indexJ)+''+str(indexK)]=k\n",
    "        else:\n",
    "            print(\"dimension does not match\")\n",
    "        object={ value:key for key,value in object.items()}\n",
    "        self.vecrot_list=object\n",
    "\n",
    "        \n",
    "            \n",
    "    def convert_digit_toxyz(self,digit_str):\n",
    "        return int(digit_str[0]),int(digit_str[1]),int(digit_str[2])\n",
    "    \n",
    "    def convert_vectorlist_toxyzlist(self,list):\n",
    "        x=[]\n",
    "        y=[]\n",
    "        z=[]\n",
    "        for each in list:\n",
    "#             print(each)\n",
    "            a,b,c=self.convert_digit_toxyz(each)\n",
    "            x.append(a)\n",
    "            y.append(b)\n",
    "            z.append(c)\n",
    "        return x,y,z\n",
    "    \n",
    "    \n",
    "    def convert_array_toxyzlist(self,array):\n",
    "        list_trace=[]\n",
    "        for i in array:\n",
    "            vecrot_list=[j.tolist() for j in i]\n",
    "            vecrot_list=np.reshape(vecrot_list,[-1])\n",
    "            vecrot_list=[self.vecrot_list[i] for i in vecrot_list]\n",
    "#             print('convert_array_toxyzlist : ',vecrot_list)\n",
    "            x,y,z=self.convert_vectorlist_toxyzlist(vecrot_list)\n",
    "            trace = go.Scatter3d(\n",
    "                        x=x,\n",
    "                        y=y,\n",
    "                        z=z,\n",
    "                        mode='markers',\n",
    "                        marker=dict(\n",
    "                            size=12,\n",
    "                            line=dict(\n",
    "                                color='rgba(217, 217, 217, 0.14)',\n",
    "                                width=0.1\n",
    "                            ),\n",
    "                            opacity=0.8\n",
    "                        )\n",
    "                    )\n",
    "    #         print('trace : ',trace)\n",
    "            list_trace.append(trace)\n",
    "        return list_trace\n",
    "        \n",
    "    def show_3D_view(self,input):\n",
    "        \n",
    "        data=self.convert_array_toxyzlist(input)\n",
    "#         print('tracelist',data)\n",
    "        layout = go.Layout(\n",
    "            margin=dict(\n",
    "                l=0,\n",
    "                r=0,\n",
    "                b=0,\n",
    "                t=0\n",
    "            )\n",
    "        )\n",
    "        fig = go.Figure(data=data, layout=layout)\n",
    "        py.iplot(fig, filename='simple-3d-scatter')\n",
    "        return fig\n",
    "        \n",
    "        \n"
   ]
  },
  {
   "cell_type": "code",
   "execution_count": 23,
   "metadata": {},
   "outputs": [
    {
     "name": "stdout",
     "output_type": "stream",
     "text": [
      "initialize\n",
      "shape equal to 3\n",
      "High five! You successfully sent some data to your account on plotly. View your plot in your browser at https://plot.ly/~sourabhraghav2/0 or inside your plot.ly account where it is named 'simple-3d-scatter'\n"
     ]
    },
    {
     "data": {
      "text/html": [
       "<iframe id=\"igraph\" scrolling=\"no\" style=\"border:none;\" seamless=\"seamless\" src=\"https://plot.ly/~sourabhraghav2/12.embed\" height=\"525px\" width=\"100%\"></iframe>"
      ],
      "text/plain": [
       "<plotly.tools.PlotlyDisplay object>"
      ]
     },
     "execution_count": 23,
     "metadata": {},
     "output_type": "execute_result"
    }
   ],
   "source": [
    "\n",
    "session = tf.Session()\n",
    "sess_out=session.run(tf.unstack(input,3,2))\n",
    "# print(sess_out)\n",
    "vis=Visializer3D(input)\n",
    "fig=vis.show_3D_view(sess_out)\n",
    "py.iplot(fig)"
   ]
  },
  {
   "cell_type": "code",
   "execution_count": 4,
   "metadata": {},
   "outputs": [
    {
     "name": "stdout",
     "output_type": "stream",
     "text": [
      "[ 0.63423551 -1.46808775  1.6916      1.10339585 -1.56769271]\n"
     ]
    },
    {
     "data": {
      "text/html": [
       "<iframe id=\"igraph\" scrolling=\"no\" style=\"border:none;\" seamless=\"seamless\" src=\"https://plot.ly/~sourabhraghav2/2.embed\" height=\"525px\" width=\"100%\"></iframe>"
      ],
      "text/plain": [
       "<plotly.tools.PlotlyDisplay object>"
      ]
     },
     "execution_count": 4,
     "metadata": {},
     "output_type": "execute_result"
    }
   ],
   "source": [
    "\n",
    "import plotly.graph_objs as go\n",
    "import plotly.plotly as py\n",
    "\n",
    "import numpy as np\n",
    "\n",
    "y=np.random.randn(5)\n",
    "print(y)\n",
    "trace1 = go.Scatter(\n",
    "    y = y,\n",
    "    mode='markers',\n",
    "    marker=dict(\n",
    "        size='16',\n",
    "        color = y, #set color equal to a variable\n",
    "        colorscale='Viridis',\n",
    "        showscale=True\n",
    "    )\n",
    ")\n",
    "data = [trace1]\n",
    "\n",
    "py.iplot(data, filename='scatter-plot-with-colorscale')"
   ]
  },
  {
   "cell_type": "code",
   "execution_count": 17,
   "metadata": {},
   "outputs": [
    {
     "data": {
      "text/html": [
       "<iframe id=\"igraph\" scrolling=\"no\" style=\"border:none;\" seamless=\"seamless\" src=\"https://plot.ly/~sourabhraghav2/10.embed\" height=\"525px\" width=\"100%\"></iframe>"
      ],
      "text/plain": [
       "<plotly.tools.PlotlyDisplay object>"
      ]
     },
     "execution_count": 17,
     "metadata": {},
     "output_type": "execute_result"
    }
   ],
   "source": [
    "import plotly.plotly as py\n",
    "import plotly.graph_objs as go\n",
    "y=np.random.randint(5, size=(10))\n",
    "data = [\n",
    "    go.Box(\n",
    "        y=y,\n",
    "        boxpoints='all',\n",
    "        jitter=0.3,\n",
    "        pointpos=-1.8\n",
    "    )\n",
    "]\n",
    "py.iplot(data)"
   ]
  },
  {
   "cell_type": "code",
   "execution_count": null,
   "metadata": {},
   "outputs": [],
   "source": []
  }
 ],
 "metadata": {
  "kernelspec": {
   "display_name": "Python 3",
   "language": "python",
   "name": "python3"
  },
  "language_info": {
   "codemirror_mode": {
    "name": "ipython",
    "version": 3
   },
   "file_extension": ".py",
   "mimetype": "text/x-python",
   "name": "python",
   "nbconvert_exporter": "python",
   "pygments_lexer": "ipython3",
   "version": "3.5.2"
  }
 },
 "nbformat": 4,
 "nbformat_minor": 2
}
